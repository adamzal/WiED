{
 "cells": [
  {
   "cell_type": "code",
   "execution_count": 82,
   "id": "963c1087",
   "metadata": {},
   "outputs": [],
   "source": [
    "from d3blocks import D3Blocks"
   ]
  },
  {
   "cell_type": "code",
   "execution_count": 83,
   "id": "03582215",
   "metadata": {},
   "outputs": [
    {
     "name": "stderr",
     "output_type": "stream",
     "text": [
      "[d3blocks] >INFO> Cleaning edge_properties and config parameters..\n"
     ]
    }
   ],
   "source": [
    "d3 = D3Blocks()"
   ]
  },
  {
   "cell_type": "code",
   "execution_count": 88,
   "id": "b088508c",
   "metadata": {},
   "outputs": [
    {
     "name": "stderr",
     "output_type": "stream",
     "text": [
      "[d3blocks] >INFO> Extracting files..\n",
      "[d3blocks] >INFO> Import dataset: [cancer]\n"
     ]
    }
   ],
   "source": [
    "df = d3.import_example('energy')"
   ]
  },
  {
   "cell_type": "code",
   "execution_count": 93,
   "id": "6dcdc80e",
   "metadata": {},
   "outputs": [
    {
     "name": "stderr",
     "output_type": "stream",
     "text": [
      "[d3blocks] >INFO> Cleaning edge_properties and config parameters..\n",
      "[d3blocks] >INFO> Initializing [Sankey]\n",
      "[d3blocks] >INFO> filepath is set to [C:\\Users\\adamz\\AppData\\Local\\Temp\\d3blocks\\sankey.html]\n",
      "[d3blocks] >INFO> Extracting files..\n",
      "[d3blocks] >INFO> Import dataset: [energy]\n",
      "[d3blocks] >INFO> Convert to Frame.\n",
      "[d3blocks] >INFO> Node properties are set.\n",
      "[d3blocks] >INFO> Edge properties are set.\n",
      "[d3blocks] >INFO> File already exists and will be overwritten: [C:\\Users\\adamz\\AppData\\Local\\Temp\\d3blocks\\sankey.html]\n"
     ]
    },
    {
     "name": "stdout",
     "output_type": "stream",
     "text": [
      "    id                               label\n",
      "0    0                  Agricultural waste\n",
      "1    1                      Bio-conversion\n",
      "2    2                              Liquid\n",
      "3    3                              Losses\n",
      "4    4                               Solid\n",
      "5    5                                 Gas\n",
      "6    6                     Biofuel imports\n",
      "7    7                     Biomass imports\n",
      "8    8                        Coal imports\n",
      "9    9                                Coal\n",
      "10  10                       Coal reserves\n",
      "11  11                    District heating\n",
      "12  12                            Industry\n",
      "13  13    Heating and cooling - commercial\n",
      "14  14         Heating and cooling - homes\n",
      "15  15                    Electricity grid\n",
      "16  16           Over generation / exports\n",
      "17  17                       H2 conversion\n",
      "18  18                      Road transport\n",
      "19  19                         Agriculture\n",
      "20  20                      Rail transport\n",
      "21  21  Lighting & appliances - commercial\n",
      "22  22       Lighting & appliances - homes\n",
      "23  23                         Gas imports\n",
      "24  24                                Ngas\n",
      "25  25                        Gas reserves\n",
      "26  26                  Thermal generation\n",
      "27  27                          Geothermal\n",
      "28  28                                  H2\n",
      "29  29                               Hydro\n",
      "30  30              International shipping\n",
      "31  31                   Domestic aviation\n",
      "32  32              International aviation\n",
      "33  33                 National navigation\n",
      "34  34                        Marine algae\n",
      "35  35                             Nuclear\n",
      "36  36                         Oil imports\n",
      "37  37                                 Oil\n",
      "38  38                        Oil reserves\n",
      "39  39                         Other waste\n",
      "40  40                         Pumped heat\n",
      "41  41                            Solar PV\n",
      "42  42                       Solar Thermal\n",
      "43  43                               Solar\n",
      "44  44                               Tidal\n",
      "45  45             UK land based bioenergy\n",
      "46  46                                Wave\n",
      "47  47                                Wind\n",
      "                     source            target   weight\n",
      "0        Agricultural waste    Bio-conversion  124.729\n",
      "1            Bio-conversion            Liquid    0.597\n",
      "2            Bio-conversion            Losses   26.862\n",
      "3            Bio-conversion             Solid  280.322\n",
      "4            Bio-conversion               Gas   81.144\n",
      "..                      ...               ...      ...\n",
      "63       Thermal generation  District heating   79.329\n",
      "64                    Tidal  Electricity grid    9.452\n",
      "65  UK land based bioenergy    Bio-conversion  182.010\n",
      "66                     Wave  Electricity grid   19.013\n",
      "67                     Wind  Electricity grid  289.366\n",
      "\n",
      "[68 rows x 3 columns]\n"
     ]
    },
    {
     "name": "stderr",
     "output_type": "stream",
     "text": [
      "[d3blocks] >INFO> Open browser: C:\\Users\\adamz\\AppData\\Local\\Temp\\d3blocks\\sankey.html\n"
     ]
    }
   ],
   "source": [
    "# Load d3blocks\n",
    "from d3blocks import D3Blocks\n",
    "#\n",
    "# Initialize\n",
    "d3 = D3Blocks(chart='Sankey', frame=True)\n",
    "#\n",
    "# Import example\n",
    "df = d3.import_example('energy')\n",
    "#\n",
    "# Node properties\n",
    "d3.set_node_properties(df)\n",
    "print(d3.node_properties)\n",
    "#\n",
    "d3.set_edge_properties(df, color='target', opacity='target')\n",
    "print(d3.edge_properties)\n",
    "#\n",
    "# Show the chart\n",
    "d3.show()"
   ]
  },
  {
   "cell_type": "code",
   "execution_count": null,
   "id": "4c241aac",
   "metadata": {},
   "outputs": [],
   "source": []
  }
 ],
 "metadata": {
  "kernelspec": {
   "display_name": "Python 3 (ipykernel)",
   "language": "python",
   "name": "python3"
  },
  "language_info": {
   "codemirror_mode": {
    "name": "ipython",
    "version": 3
   },
   "file_extension": ".py",
   "mimetype": "text/x-python",
   "name": "python",
   "nbconvert_exporter": "python",
   "pygments_lexer": "ipython3",
   "version": "3.10.11"
  }
 },
 "nbformat": 4,
 "nbformat_minor": 5
}
