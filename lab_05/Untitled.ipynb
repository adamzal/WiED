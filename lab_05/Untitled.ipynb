{
 "cells": [
  {
   "cell_type": "code",
   "execution_count": 15,
   "id": "03cec7ed",
   "metadata": {},
   "outputs": [],
   "source": [
    "from sklearn.feature_selection import RFE\n",
    "from sklearn.linear_model import LinearRegression\n",
    "import pandas as pd"
   ]
  },
  {
   "cell_type": "code",
   "execution_count": 32,
   "id": "2ac462f8",
   "metadata": {},
   "outputs": [
    {
     "data": {
      "text/html": [
       "<div>\n",
       "<style scoped>\n",
       "    .dataframe tbody tr th:only-of-type {\n",
       "        vertical-align: middle;\n",
       "    }\n",
       "\n",
       "    .dataframe tbody tr th {\n",
       "        vertical-align: top;\n",
       "    }\n",
       "\n",
       "    .dataframe thead th {\n",
       "        text-align: right;\n",
       "    }\n",
       "</style>\n",
       "<table border=\"1\" class=\"dataframe\">\n",
       "  <thead>\n",
       "    <tr style=\"text-align: right;\">\n",
       "      <th></th>\n",
       "      <th>PSU</th>\n",
       "      <th>O2</th>\n",
       "      <th>temp.</th>\n",
       "      <th>SS</th>\n",
       "      <th>SRP</th>\n",
       "      <th>DOP</th>\n",
       "      <th>PP</th>\n",
       "      <th>NH4N</th>\n",
       "      <th>NO3N</th>\n",
       "      <th>DON</th>\n",
       "      <th>PN</th>\n",
       "      <th>TN/TP</th>\n",
       "      <th>Fe</th>\n",
       "      <th>SiO4Si</th>\n",
       "      <th>DOC</th>\n",
       "      <th>TPOC</th>\n",
       "      <th>Windspeedinsitu</th>\n",
       "      <th>Depth</th>\n",
       "      <th>DINtoDIP</th>\n",
       "      <th>Years</th>\n",
       "    </tr>\n",
       "  </thead>\n",
       "  <tbody>\n",
       "    <tr>\n",
       "      <th>0</th>\n",
       "      <td>3.757624</td>\n",
       "      <td>9.46</td>\n",
       "      <td>18.3</td>\n",
       "      <td>52.0</td>\n",
       "      <td>3.5</td>\n",
       "      <td>11.7</td>\n",
       "      <td>185.0</td>\n",
       "      <td>0.039</td>\n",
       "      <td>0.022</td>\n",
       "      <td>0.551</td>\n",
       "      <td>0.759</td>\n",
       "      <td>6.848152</td>\n",
       "      <td>0.0121</td>\n",
       "      <td>2.3112</td>\n",
       "      <td>7.500</td>\n",
       "      <td>8.5650</td>\n",
       "      <td>3.5</td>\n",
       "      <td>3.3</td>\n",
       "      <td>17.428571</td>\n",
       "      <td>0</td>\n",
       "    </tr>\n",
       "    <tr>\n",
       "      <th>1</th>\n",
       "      <td>3.504707</td>\n",
       "      <td>9.89</td>\n",
       "      <td>19.1</td>\n",
       "      <td>50.0</td>\n",
       "      <td>4.4</td>\n",
       "      <td>17.5</td>\n",
       "      <td>111.3</td>\n",
       "      <td>0.020</td>\n",
       "      <td>0.025</td>\n",
       "      <td>0.123</td>\n",
       "      <td>1.181</td>\n",
       "      <td>10.127628</td>\n",
       "      <td>0.0136</td>\n",
       "      <td>2.1157</td>\n",
       "      <td>7.860</td>\n",
       "      <td>8.5200</td>\n",
       "      <td>0.0</td>\n",
       "      <td>3.6</td>\n",
       "      <td>10.227273</td>\n",
       "      <td>0</td>\n",
       "    </tr>\n",
       "    <tr>\n",
       "      <th>2</th>\n",
       "      <td>3.757624</td>\n",
       "      <td>9.66</td>\n",
       "      <td>18.1</td>\n",
       "      <td>59.0</td>\n",
       "      <td>3.2</td>\n",
       "      <td>22.8</td>\n",
       "      <td>103.4</td>\n",
       "      <td>0.016</td>\n",
       "      <td>0.008</td>\n",
       "      <td>0.582</td>\n",
       "      <td>0.576</td>\n",
       "      <td>9.134467</td>\n",
       "      <td>0.0368</td>\n",
       "      <td>2.2641</td>\n",
       "      <td>8.172</td>\n",
       "      <td>8.4915</td>\n",
       "      <td>1.0</td>\n",
       "      <td>3.4</td>\n",
       "      <td>7.500000</td>\n",
       "      <td>0</td>\n",
       "    </tr>\n",
       "    <tr>\n",
       "      <th>3</th>\n",
       "      <td>3.107266</td>\n",
       "      <td>10.36</td>\n",
       "      <td>19.5</td>\n",
       "      <td>46.0</td>\n",
       "      <td>4.3</td>\n",
       "      <td>22.3</td>\n",
       "      <td>92.7</td>\n",
       "      <td>0.026</td>\n",
       "      <td>0.021</td>\n",
       "      <td>0.693</td>\n",
       "      <td>0.689</td>\n",
       "      <td>11.978206</td>\n",
       "      <td>0.0172</td>\n",
       "      <td>2.2623</td>\n",
       "      <td>7.848</td>\n",
       "      <td>8.8320</td>\n",
       "      <td>0.0</td>\n",
       "      <td>2.9</td>\n",
       "      <td>10.930233</td>\n",
       "      <td>0</td>\n",
       "    </tr>\n",
       "    <tr>\n",
       "      <th>4</th>\n",
       "      <td>2.619498</td>\n",
       "      <td>11.56</td>\n",
       "      <td>19.0</td>\n",
       "      <td>42.0</td>\n",
       "      <td>11.7</td>\n",
       "      <td>30.3</td>\n",
       "      <td>73.2</td>\n",
       "      <td>0.022</td>\n",
       "      <td>0.048</td>\n",
       "      <td>0.383</td>\n",
       "      <td>1.006</td>\n",
       "      <td>12.664931</td>\n",
       "      <td>0.0237</td>\n",
       "      <td>2.2164</td>\n",
       "      <td>7.536</td>\n",
       "      <td>9.2400</td>\n",
       "      <td>0.0</td>\n",
       "      <td>3.0</td>\n",
       "      <td>5.982906</td>\n",
       "      <td>0</td>\n",
       "    </tr>\n",
       "  </tbody>\n",
       "</table>\n",
       "</div>"
      ],
      "text/plain": [
       "        PSU     O2  temp.    SS   SRP   DOP     PP   NH4N   NO3N    DON  \\\n",
       "0  3.757624   9.46   18.3  52.0   3.5  11.7  185.0  0.039  0.022  0.551   \n",
       "1  3.504707   9.89   19.1  50.0   4.4  17.5  111.3  0.020  0.025  0.123   \n",
       "2  3.757624   9.66   18.1  59.0   3.2  22.8  103.4  0.016  0.008  0.582   \n",
       "3  3.107266  10.36   19.5  46.0   4.3  22.3   92.7  0.026  0.021  0.693   \n",
       "4  2.619498  11.56   19.0  42.0  11.7  30.3   73.2  0.022  0.048  0.383   \n",
       "\n",
       "      PN      TN/TP      Fe  SiO4Si    DOC    TPOC  Windspeedinsitu  Depth  \\\n",
       "0  0.759   6.848152  0.0121  2.3112  7.500  8.5650              3.5    3.3   \n",
       "1  1.181  10.127628  0.0136  2.1157  7.860  8.5200              0.0    3.6   \n",
       "2  0.576   9.134467  0.0368  2.2641  8.172  8.4915              1.0    3.4   \n",
       "3  0.689  11.978206  0.0172  2.2623  7.848  8.8320              0.0    2.9   \n",
       "4  1.006  12.664931  0.0237  2.2164  7.536  9.2400              0.0    3.0   \n",
       "\n",
       "    DINtoDIP  Years  \n",
       "0  17.428571      0  \n",
       "1  10.227273      0  \n",
       "2   7.500000      0  \n",
       "3  10.930233      0  \n",
       "4   5.982906      0  "
      ]
     },
     "execution_count": 32,
     "metadata": {},
     "output_type": "execute_result"
    }
   ],
   "source": [
    "data = pd.read_csv(\"VLagun_PhysChem_Years4.csv\")\n",
    "X = data.iloc[:, 0:19]\n",
    "y = data.iloc[:, 19]\n",
    "features_names = data.columns\n",
    "data.head()"
   ]
  },
  {
   "cell_type": "code",
   "execution_count": 33,
   "id": "440affe3",
   "metadata": {},
   "outputs": [
    {
     "name": "stdout",
     "output_type": "stream",
     "text": [
      "Features Shape:  (120, 20)\n"
     ]
    }
   ],
   "source": [
    "print(\"Features Shape: \", data.shape)"
   ]
  },
  {
   "cell_type": "code",
   "execution_count": 34,
   "id": "eb00228b",
   "metadata": {},
   "outputs": [],
   "source": [
    "from sklearn.ensemble import RandomForestRegressor\n",
    "import numpy as np"
   ]
  },
  {
   "cell_type": "code",
   "execution_count": 35,
   "id": "7cc30ed7",
   "metadata": {},
   "outputs": [
    {
     "name": "stdout",
     "output_type": "stream",
     "text": [
      "PSU 0.03190507394162355\n",
      "O2 0.003582589419099777\n",
      "temp. 0.07790081454922056\n",
      "SS 0.08060777055841534\n",
      "SRP 0.004036798831773258\n",
      "DOP 0.013983324598623103\n",
      "PP 0.014702188288849297\n",
      "NH4N 0.005806634578773869\n",
      "NO3N 0.008764932070171663\n",
      "DON 0.007685484481212123\n",
      "PN 0.014872554391167641\n",
      "TN/TP 0.014456222928889026\n",
      "Fe 0.011077016096328418\n",
      "SiO4Si 0.06806378115215292\n",
      "DOC 0.21533693442451995\n",
      "TPOC 0.03414537362623922\n",
      "Windspeedinsitu 0.3691279556268485\n",
      "Depth 0.008510685985174741\n",
      "DINtoDIP 0.01543386445091692\n"
     ]
    }
   ],
   "source": [
    "rf = RandomForestRegressor(n_estimators=100, random_state=42)\n",
    "\n",
    "rf.fit(X,y)\n",
    "\n",
    "importances = rf.feature_importances_\n",
    "\n",
    "for feature, importance in zip(X.columns, importances):\n",
    "    np.argsort(importance)\n",
    "    print(feature, importance)"
   ]
  },
  {
   "cell_type": "code",
   "execution_count": 39,
   "id": "9f7c1dc3",
   "metadata": {},
   "outputs": [
    {
     "name": "stdout",
     "output_type": "stream",
     "text": [
      "Variable Windspeedinsitu                 Importance: 0.369\n",
      "Variable DOC                             Importance: 0.215\n",
      "Variable SS                              Importance: 0.081\n",
      "Variable temp.                           Importance: 0.078\n",
      "Variable SiO4Si                          Importance: 0.068\n",
      "Variable TPOC                            Importance: 0.034\n",
      "Variable PSU                             Importance: 0.032\n",
      "Variable PP                              Importance: 0.015\n",
      "Variable PN                              Importance: 0.015\n",
      "Variable DINtoDIP                        Importance: 0.015\n",
      "Variable DOP                             Importance: 0.014\n",
      "Variable TN/TP                           Importance: 0.014\n",
      "Variable Fe                              Importance: 0.011\n",
      "Variable NO3N                            Importance: 0.009\n",
      "Variable Depth                           Importance: 0.009\n",
      "Variable DON                             Importance: 0.008\n",
      "Variable NH4N                            Importance: 0.006\n",
      "Variable O2                              Importance: 0.004\n",
      "Variable SRP                             Importance: 0.004\n"
     ]
    },
    {
     "data": {
      "text/plain": [
       "[None,\n",
       " None,\n",
       " None,\n",
       " None,\n",
       " None,\n",
       " None,\n",
       " None,\n",
       " None,\n",
       " None,\n",
       " None,\n",
       " None,\n",
       " None,\n",
       " None,\n",
       " None,\n",
       " None,\n",
       " None,\n",
       " None,\n",
       " None,\n",
       " None]"
      ]
     },
     "execution_count": 39,
     "metadata": {},
     "output_type": "execute_result"
    }
   ],
   "source": [
    "importances - list(rf.feature_importances_)\n",
    "\n",
    "feature_importances = [(feature, round(importance, 3)) for feature, importance in zip(X, importances)]\n",
    "\n",
    "feature_importances = sorted(feature_importances, key=lambda x: x[1], reverse= True)\n",
    "\n",
    "[print('Variable {:31} Importance: {}'.format(*pair)) for pair in feature_importances]"
   ]
  },
  {
   "cell_type": "code",
   "execution_count": 40,
   "id": "501f4e9d",
   "metadata": {},
   "outputs": [],
   "source": [
    "%matplotlib inline\n",
    "import pandas as pd\n",
    "import numpy as np\n",
    "import seaborn as sns\n",
    "import matplotlib.pyplot as plt\n",
    "from sklearn import model_selection\n",
    "from sklearn import preprocessing\n",
    "from sklearn import ensemble, tree, metrics"
   ]
  },
  {
   "cell_type": "code",
   "execution_count": 41,
   "id": "f119fcf6",
   "metadata": {},
   "outputs": [],
   "source": [
    "estimator_rf = ensemble.RandomForestRegressor(\n",
    "    n_jobs=-1,\n",
    "    n_estimators=100,\n",
    "    random_state=42)"
   ]
  },
  {
   "cell_type": "code",
   "execution_count": 42,
   "id": "5b09e555",
   "metadata": {},
   "outputs": [
    {
     "data": {
      "text/html": [
       "<style>#sk-container-id-1 {color: black;background-color: white;}#sk-container-id-1 pre{padding: 0;}#sk-container-id-1 div.sk-toggleable {background-color: white;}#sk-container-id-1 label.sk-toggleable__label {cursor: pointer;display: block;width: 100%;margin-bottom: 0;padding: 0.3em;box-sizing: border-box;text-align: center;}#sk-container-id-1 label.sk-toggleable__label-arrow:before {content: \"▸\";float: left;margin-right: 0.25em;color: #696969;}#sk-container-id-1 label.sk-toggleable__label-arrow:hover:before {color: black;}#sk-container-id-1 div.sk-estimator:hover label.sk-toggleable__label-arrow:before {color: black;}#sk-container-id-1 div.sk-toggleable__content {max-height: 0;max-width: 0;overflow: hidden;text-align: left;background-color: #f0f8ff;}#sk-container-id-1 div.sk-toggleable__content pre {margin: 0.2em;color: black;border-radius: 0.25em;background-color: #f0f8ff;}#sk-container-id-1 input.sk-toggleable__control:checked~div.sk-toggleable__content {max-height: 200px;max-width: 100%;overflow: auto;}#sk-container-id-1 input.sk-toggleable__control:checked~label.sk-toggleable__label-arrow:before {content: \"▾\";}#sk-container-id-1 div.sk-estimator input.sk-toggleable__control:checked~label.sk-toggleable__label {background-color: #d4ebff;}#sk-container-id-1 div.sk-label input.sk-toggleable__control:checked~label.sk-toggleable__label {background-color: #d4ebff;}#sk-container-id-1 input.sk-hidden--visually {border: 0;clip: rect(1px 1px 1px 1px);clip: rect(1px, 1px, 1px, 1px);height: 1px;margin: -1px;overflow: hidden;padding: 0;position: absolute;width: 1px;}#sk-container-id-1 div.sk-estimator {font-family: monospace;background-color: #f0f8ff;border: 1px dotted black;border-radius: 0.25em;box-sizing: border-box;margin-bottom: 0.5em;}#sk-container-id-1 div.sk-estimator:hover {background-color: #d4ebff;}#sk-container-id-1 div.sk-parallel-item::after {content: \"\";width: 100%;border-bottom: 1px solid gray;flex-grow: 1;}#sk-container-id-1 div.sk-label:hover label.sk-toggleable__label {background-color: #d4ebff;}#sk-container-id-1 div.sk-serial::before {content: \"\";position: absolute;border-left: 1px solid gray;box-sizing: border-box;top: 0;bottom: 0;left: 50%;z-index: 0;}#sk-container-id-1 div.sk-serial {display: flex;flex-direction: column;align-items: center;background-color: white;padding-right: 0.2em;padding-left: 0.2em;position: relative;}#sk-container-id-1 div.sk-item {position: relative;z-index: 1;}#sk-container-id-1 div.sk-parallel {display: flex;align-items: stretch;justify-content: center;background-color: white;position: relative;}#sk-container-id-1 div.sk-item::before, #sk-container-id-1 div.sk-parallel-item::before {content: \"\";position: absolute;border-left: 1px solid gray;box-sizing: border-box;top: 0;bottom: 0;left: 50%;z-index: -1;}#sk-container-id-1 div.sk-parallel-item {display: flex;flex-direction: column;z-index: 1;position: relative;background-color: white;}#sk-container-id-1 div.sk-parallel-item:first-child::after {align-self: flex-end;width: 50%;}#sk-container-id-1 div.sk-parallel-item:last-child::after {align-self: flex-start;width: 50%;}#sk-container-id-1 div.sk-parallel-item:only-child::after {width: 0;}#sk-container-id-1 div.sk-dashed-wrapped {border: 1px dashed gray;margin: 0 0.4em 0.5em 0.4em;box-sizing: border-box;padding-bottom: 0.4em;background-color: white;}#sk-container-id-1 div.sk-label label {font-family: monospace;font-weight: bold;display: inline-block;line-height: 1.2em;}#sk-container-id-1 div.sk-label-container {text-align: center;}#sk-container-id-1 div.sk-container {/* jupyter's `normalize.less` sets `[hidden] { display: none; }` but bootstrap.min.css set `[hidden] { display: none !important; }` so we also need the `!important` here to be able to override the default hidden behavior on the sphinx rendered scikit-learn.org. See: https://github.com/scikit-learn/scikit-learn/issues/21755 */display: inline-block !important;position: relative;}#sk-container-id-1 div.sk-text-repr-fallback {display: none;}</style><div id=\"sk-container-id-1\" class=\"sk-top-container\"><div class=\"sk-text-repr-fallback\"><pre>RandomForestRegressor(n_jobs=-1, random_state=42)</pre><b>In a Jupyter environment, please rerun this cell to show the HTML representation or trust the notebook. <br />On GitHub, the HTML representation is unable to render, please try loading this page with nbviewer.org.</b></div><div class=\"sk-container\" hidden><div class=\"sk-item\"><div class=\"sk-estimator sk-toggleable\"><input class=\"sk-toggleable__control sk-hidden--visually\" id=\"sk-estimator-id-1\" type=\"checkbox\" checked><label for=\"sk-estimator-id-1\" class=\"sk-toggleable__label sk-toggleable__label-arrow\">RandomForestRegressor</label><div class=\"sk-toggleable__content\"><pre>RandomForestRegressor(n_jobs=-1, random_state=42)</pre></div></div></div></div></div>"
      ],
      "text/plain": [
       "RandomForestRegressor(n_jobs=-1, random_state=42)"
      ]
     },
     "execution_count": 42,
     "metadata": {},
     "output_type": "execute_result"
    }
   ],
   "source": [
    "estimator_rf.fit(X, y)"
   ]
  },
  {
   "cell_type": "code",
   "execution_count": 43,
   "id": "35cd54b6",
   "metadata": {},
   "outputs": [
    {
     "data": {
      "text/plain": [
       "Importance    True\n",
       "dtype: bool"
      ]
     },
     "execution_count": 43,
     "metadata": {},
     "output_type": "execute_result"
    }
   ],
   "source": [
    "feature_importance_df = pd.DataFrame(estimator_rf.feature_importances_, index=X.columns.values, columns=['Importance'])\n",
    "feature_importance_df.all()"
   ]
  },
  {
   "cell_type": "code",
   "execution_count": 44,
   "id": "4e48a5c9",
   "metadata": {},
   "outputs": [],
   "source": [
    "feature_importance_df.sort_values(by='Importance', inplace=True, ascending=False)"
   ]
  },
  {
   "cell_type": "code",
   "execution_count": 45,
   "id": "c9e9f310",
   "metadata": {},
   "outputs": [
    {
     "data": {
      "text/plain": [
       "<Axes: >"
      ]
     },
     "execution_count": 45,
     "metadata": {},
     "output_type": "execute_result"
    },
    {
     "data": {
      "image/png": "[encoded data removed]",
      "text/plain": [
       "<Figure size 1500x1500 with 1 Axes>"
      ]
     },
     "metadata": {},
     "output_type": "display_data"
    }
   ],
   "source": [
    "plt.figure(figsize=(15,15))\n",
    "sns.barplot(data=feature_importance_df, x=feature_importance_df.values.flatten(), y=feature_importance_df.index.values)"
   ]
  },
  {
   "cell_type": "code",
   "execution_count": null,
   "id": "34403d03",
   "metadata": {},
   "outputs": [],
   "source": []
  }
 ],
 "metadata": {
  "kernelspec": {
   "display_name": "Python 3 (ipykernel)",
   "language": "python",
   "name": "python3"
  },
  "language_info": {
   "codemirror_mode": {
    "name": "ipython",
    "version": 3
   },
   "file_extension": ".py",
   "mimetype": "text/x-python",
   "name": "python",
   "nbconvert_exporter": "python",
   "pygments_lexer": "ipython3",
   "version": "3.10.9"
  }
 },
 "nbformat": 4,
 "nbformat_minor": 5
}
